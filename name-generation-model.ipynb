{
 "cells": [
  {
   "cell_type": "markdown",
   "metadata": {},
   "source": [
    "# Name Genration Model - Using Recurrent Nerual Network (RNN)\n",
    "## Krupesh Parmar  \n",
    "\n",
    "This RNN model generates human names, based on exitsting names. This model also contains the implementation of RNN architecture from scratch.   "
   ]
  },
  {
   "cell_type": "code",
   "execution_count": 2,
   "metadata": {},
   "outputs": [],
   "source": [
    "import numpy as np  \n",
    "import pandas as pd\n",
    "import seaborn as sns"
   ]
  },
  {
   "cell_type": "markdown",
   "metadata": {},
   "source": [
    "## Load Data"
   ]
  },
  {
   "cell_type": "code",
   "execution_count": 4,
   "metadata": {},
   "outputs": [
    {
     "name": "stdout",
     "output_type": "stream",
     "text": [
      "Number of names:  1055767\n",
      "Max length of names:  15\n"
     ]
    }
   ],
   "source": [
    "name_file = 'dataset.txt'\n",
    "names = []\n",
    "with open (name_file, 'r') as file:\n",
    "    names = file.read().lower()[:-1].split('\\n')\n",
    "\n",
    "print(\"Number of names: \", len(names))\n",
    "print(\"Max length of names: \", max(len(name) for name in names))"
   ]
  },
  {
   "cell_type": "markdown",
   "metadata": {},
   "source": [
    "## Preprocessing"
   ]
  },
  {
   "cell_type": "markdown",
   "metadata": {},
   "source": [
    "Remove the outliers"
   ]
  },
  {
   "cell_type": "code",
   "execution_count": 18,
   "metadata": {},
   "outputs": [
    {
     "data": {
      "text/plain": [
       "<Axes: xlabel='len', ylabel='count'>"
      ]
     },
     "execution_count": 18,
     "metadata": {},
     "output_type": "execute_result"
    },
    {
     "data": {
      "image/png": "[encoded data removed]",
      "text/plain": [
       "<Figure size 640x480 with 1 Axes>"
      ]
     },
     "metadata": {},
     "output_type": "display_data"
    }
   ],
   "source": [
    "df = pd.DataFrame(names, columns=['name'])\n",
    "df['len'] = df['name'].apply(len)\n",
    "count_df = df['len'].value_counts().reset_index().sort_values(by='len')\n",
    "\n",
    "sns.barplot(x='len', y='count', data=count_df)"
   ]
  },
  {
   "cell_type": "markdown",
   "metadata": {},
   "source": [
    "As you can see most of the name has length between 3 to 9. So remove words with length < 3 or length > 9."
   ]
  },
  {
   "cell_type": "code",
   "execution_count": 25,
   "metadata": {},
   "outputs": [
    {
     "name": "stdout",
     "output_type": "stream",
     "text": [
      "Number of names after filtering:  1044407\n"
     ]
    }
   ],
   "source": [
    "MIN_LENGTH = 3\n",
    "MAX_LENGTH = 9\n",
    "\n",
    "names = [name for name in names if len(name) >= MIN_LENGTH and len(name) <= MAX_LENGTH]\n",
    "print(\"Number of names after filtering: \", len(names))"
   ]
  },
  {
   "cell_type": "markdown",
   "metadata": {},
   "source": [
    "For now let's just focus on names that contain only English alphabets. So remove names that contains other characters"
   ]
  },
  {
   "cell_type": "code",
   "execution_count": 43,
   "metadata": {},
   "outputs": [],
   "source": [
    "valid_chars = 'abcdefghijklmnopqrstuvwxyz-'\n",
    "\n",
    "for name in names:\n",
    "    if not set(name).issubset(valid_chars):\n",
    "        names.remove(name)"
   ]
  },
  {
   "cell_type": "code",
   "execution_count": 44,
   "metadata": {},
   "outputs": [
    {
     "name": "stdout",
     "output_type": "stream",
     "text": [
      "Number of names after filtering:  1044313\n"
     ]
    }
   ],
   "source": [
    "print(\"Number of names after filtering: \", len(names))"
   ]
  },
  {
   "cell_type": "code",
   "execution_count": 45,
   "metadata": {},
   "outputs": [
    {
     "name": "stdout",
     "output_type": "stream",
     "text": [
      "Number of unique characters:  29\n",
      "Unique characters:  [' ', '#', '-', 'a', 'b', 'c', 'd', 'e', 'f', 'g', 'h', 'i', 'j', 'k', 'l', 'm', 'n', 'o', 'p', 'q', 'r', 's', 't', 'u', 'v', 'w', 'x', 'y', 'z']\n"
     ]
    }
   ],
   "source": [
    "# make the list of unique characters in the names + start and end characters\n",
    "# will use later for Dictionary Lookup\n",
    "\n",
    "START_CHAR = ' '\n",
    "PADDING_CHAR = '#'\n",
    "\n",
    "\n",
    "char_set = sorted(set(''.join(names + [START_CHAR] + [PADDING_CHAR])))\n",
    "print(\"Number of unique characters: \", len(char_set))\n",
    "print(\"Unique characters: \", char_set)"
   ]
  },
  {
   "cell_type": "markdown",
   "metadata": {},
   "source": [
    "creat dictionaries for char_to_id and id_to_char"
   ]
  },
  {
   "cell_type": "code",
   "execution_count": 46,
   "metadata": {},
   "outputs": [
    {
     "name": "stdout",
     "output_type": "stream",
     "text": [
      "Char to id:  {' ': 0, '#': 1, '-': 2, 'a': 3, 'b': 4, 'c': 5, 'd': 6, 'e': 7, 'f': 8, 'g': 9, 'h': 10, 'i': 11, 'j': 12, 'k': 13, 'l': 14, 'm': 15, 'n': 16, 'o': 17, 'p': 18, 'q': 19, 'r': 20, 's': 21, 't': 22, 'u': 23, 'v': 24, 'w': 25, 'x': 26, 'y': 27, 'z': 28}\n"
     ]
    }
   ],
   "source": [
    "char_to_id = {char: idx for idx, char in enumerate(char_set)}\n",
    "id_to_char = {idx: char for idx, char in enumerate(char_set)}\n",
    "print(\"Char to id: \", char_to_id)"
   ]
  }
 ],
 "metadata": {
  "kernelspec": {
   "display_name": "Python 3",
   "language": "python",
   "name": "python3"
  },
  "language_info": {
   "codemirror_mode": {
    "name": "ipython",
    "version": 3
   },
   "file_extension": ".py",
   "mimetype": "text/x-python",
   "name": "python",
   "nbconvert_exporter": "python",
   "pygments_lexer": "ipython3",
   "version": "3.12.0"
  }
 },
 "nbformat": 4,
 "nbformat_minor": 2
}
